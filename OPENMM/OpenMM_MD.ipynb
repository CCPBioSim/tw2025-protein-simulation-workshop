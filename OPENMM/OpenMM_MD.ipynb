{
 "cells": [
  {
   "cell_type": "markdown",
   "id": "3d291304-fcfa-4089-a3d0-0c720d2ab8aa",
   "metadata": {},
   "source": [
    "# MD Simulation with OpenMM\n",
    "\n",
    "Python has become increasingly popular amongst the Biomolecular Simulation community over the last 15 years. Initially it was primarily used for simulation data analysis work, but with the advent of [OpenMM](https://openmm.org/), it has become possible, and popular, to actually **run** simulations \"in Python\".\n",
    "\n",
    "Amongst the attractions are:\n",
    " -  flexibility: if OpenMM doesn't do it already, you can often write additional code\n",
    " -  transparency: it's not a \"black box\"\n",
    " -  speed (especially on GPUs)\n",
    "\n",
    "The (maybe) downsides are:\n",
    " - You have to \"build\" your MD code before you can use it\n",
    " - Only fairly mainstream types of simulation are easy to do\n",
    " - You have to be comfortable with Python\n",
    "\n",
    "A web search will quickly identify good OpenMM tutorials and guides, this workshop focusses on a quick introduction, and is designed to allow, as far as possible, a comparison with the **Amber MD introduction** covered previously.\n",
    "\n",
    "Being Python-based, most usually you will work within the context of a Jupyter notebook or similar, rather than from the command line in a terminal session, so that is what will happen here.\n",
    "\n",
    "## 1. Build your MD Engine\n",
    "\n",
    "### 1.1 Import components\n",
    "\n",
    "For this you first need to import the neccessary components from different sections of the OpenMM package:\n",
    "\n",
    " - The base `openmm` package holds the heavy number-crunching components.\n",
    " - The `openmm.app` sub-package holds components that organise the data, both internally and for input/output.\n",
    " - The `openmm.unit` sub-package provides a way to specify parameters for the simulation in terms of *quantities* - that is, amounts of \"stuff\" in specified units.\n",
    "\n"
   ]
  },
  {
   "cell_type": "code",
   "execution_count": null,
   "id": "216c04b7-9f19-4725-a1dd-d6dfc79669c1",
   "metadata": {},
   "outputs": [],
   "source": [
    "from openmm import LangevinMiddleIntegrator, MonteCarloBarostat\n",
    "from openmm.app import AmberInpcrdFile, AmberPrmtopFile, Simulation, HBonds, PME\n",
    "from openmm.app import XTCReporter, StateDataReporter\n",
    "from openmm.unit import nanometer, picosecond, kelvin, bar, angstrom, kilojoule, mole\n",
    "\n",
    "from sys import stdout"
   ]
  },
  {
   "cell_type": "markdown",
   "id": "94350265-51c5-4be0-b8d6-8b01fa2b464f",
   "metadata": {},
   "source": [
    "### 1.2 Load simulation data\n",
    "\n",
    "Now we load data from the two files that describe our simulation system (the Mcl-1 protein prepared earlier):"
   ]
  },
  {
   "cell_type": "code",
   "execution_count": null,
   "id": "830e56f5-8e98-4fba-8361-9957f07ee0f3",
   "metadata": {},
   "outputs": [],
   "source": [
    "inpcrd = AmberInpcrdFile('5fdr_A.inpcrd')\n",
    "prmtop = AmberPrmtopFile('5fdr_A.prmtop', periodicBoxVectors=inpcrd.boxVectors)"
   ]
  },
  {
   "cell_type": "markdown",
   "id": "ca00b989-745e-4d17-8a23-bd56f07085b3",
   "metadata": {},
   "source": [
    "### 1.3 Create the simulation \"system\"\n",
    "\n",
    "A key OpenMM object is the `system`: a complete description of what will be simulated, and how. We create this from the `prmtop` object, specifying in addition extra details like how non-bonded interactions will be handled, and then we supplement it with a *barostat* so we can run constant pressure simulations:"
   ]
  },
  {
   "cell_type": "code",
   "execution_count": null,
   "id": "bf904eeb-1f66-401b-8a99-76e18a19eee1",
   "metadata": {},
   "outputs": [],
   "source": [
    "system = prmtop.createSystem(nonbondedMethod=PME, nonbondedCutoff=1*nanometer,\n",
    "        constraints=HBonds)\n",
    "system.addForce(MonteCarloBarostat(1*bar, 310*kelvin))"
   ]
  },
  {
   "cell_type": "markdown",
   "id": "465a4a85-57c3-40c8-aa6c-6db0d11c0e73",
   "metadata": {},
   "source": [
    "### 1.4 Create a \"simulation\"\n",
    "\n",
    "The next key OpenMM object is the `simulation`, which connects the `system` with the computational infrastructure to actually do MD (or energy minimisation) - a key part of this is the `integrator` that calculates the dynamics:"
   ]
  },
  {
   "cell_type": "code",
   "execution_count": null,
   "id": "49fedb5f-6aa9-42c0-976c-95241ea1e437",
   "metadata": {},
   "outputs": [],
   "source": [
    "integrator = LangevinMiddleIntegrator(310*kelvin, 1/picosecond, 0.002*picosecond)\n",
    "simulation = Simulation(prmtop.topology, system, integrator)"
   ]
  },
  {
   "cell_type": "markdown",
   "id": "7985c9a4-c3da-4130-8b5e-a39a31787a0a",
   "metadata": {},
   "source": [
    "## 2. Use your MD engine\n",
    "\n",
    "### 2.1 Energy minimise the system from the starting coordinates.\n",
    "\n",
    "Now the `simulation` exists, you can start to interact with it. Things you can do include:\n",
    "\n",
    "1. Set or get the current coordinates.\n",
    "2. Get the current simulation energy.\n",
    "3. Perform energy minimisations or MD simulations on it.\n",
    "\n",
    "OpenMM's `simulation` objects are tightly connected to your compute infrastructure, so most often you do not interact with a `simulation` directly, but via an intermediary - the `context`. Here you see the `context` being used to initialise the coordinates, and query the energy of the system before and after the minimisation process:"
   ]
  },
  {
   "cell_type": "code",
   "execution_count": null,
   "id": "6a49e3d6-b058-4e2f-91ed-2fdda6f2883c",
   "metadata": {},
   "outputs": [],
   "source": [
    "simulation.context.setPositions(inpcrd.positions)\n",
    "state = simulation.context.getState(getEnergy=True)\n",
    "print(f\"Initial energy: {state.getPotentialEnergy().format('%8.2f')}\")\n",
    "simulation.minimizeEnergy(tolerance=0.5*kilojoule/mole/angstrom,\n",
    "                          maxIterations=1000)\n",
    "state = simulation.context.getState(getEnergy=True)\n",
    "print(f\"After energy minimization: {state.getPotentialEnergy().format('%8.2f')}\")"
   ]
  },
  {
   "cell_type": "markdown",
   "id": "48290224-1409-4716-8900-a090824c64e1",
   "metadata": {},
   "source": [
    "### 2.2 Run a short MD simulation.\n",
    "\n",
    "Now the system has been energy minimised (very roughly - notice we are not using the sophisticated relaxation/equilibration workflow used previously, so there is a bit of a risk here), we can run some MD.\n",
    "\n",
    "By default, OpenMM works very quietly - it will tell you almost nothing about the simulation progress unless you add some `reporters` to the `simulation`, so that's what we will do.\n",
    "\n",
    "We add an `XTCReporter` so a *trajectory* file gets generated, and a `StateDataReporter`, so that basic info about the simulation progress is printed to the screen. With these added, we instruct the `simulation to run for a number of steps:"
   ]
  },
  {
   "cell_type": "code",
   "execution_count": null,
   "id": "601d13d1-99f2-43b8-a3c0-fbbdc3cc5d0a",
   "metadata": {},
   "outputs": [],
   "source": [
    "simulation.reporters.append(XTCReporter('5fdr_A_md.xtc', 500))\n",
    "simulation.reporters.append(StateDataReporter(stdout, 500, step=True, time=True,\n",
    "        potentialEnergy=True, temperature=True, density=True))\n",
    "simulation.step(10000)"
   ]
  },
  {
   "cell_type": "markdown",
   "id": "87931d5f-058e-4873-ad77-d1ed9e6fccc4",
   "metadata": {},
   "source": [
    "## 3. Analyse the results\n",
    "\n",
    "From what the `StateDataReporter` produces, you should be able to see the simulation temperature rising quickly to about 310K, and the system density increasing to about 1 g/mL.\n",
    "\n",
    "You should also see the trajectory file `5fdr_A_md.xtc` has been created. If you download this to your laptop (along with a copy of `5fdr_A.prmtop`, if you haven't got this already), as you did for the **Amber MD** workshop, you can visualize the trajectory using VMD or Chimera.\n",
    "\n",
    "# Summary\n",
    "\n",
    "If you are familiar with Python, OpenMM provides a very convenient approach to running MD simulations. The Notebook environment allows you to interleave code and comments, documenting your research for the benefit of both yourself and others.\n",
    "\n",
    "But you don't have to use a Notebook - put the same code into a .py file and you can run it on an HPC service, for example.\n",
    "\n",
    "The main issue with OpenMM is that if you want to run anything other than a \"vanilla\" MD simulation (e.g some form of enhanced sampling method) you will probably have to author a lot of extra code yourself, while many of the older command-line oriented tools (e.g. AMBER or GROMACS) offer many such options \"out of the box\"."
   ]
  },
  {
   "cell_type": "code",
   "execution_count": null,
   "id": "90f97e3d-28fa-4c69-bd93-3bc56d9a6bc3",
   "metadata": {},
   "outputs": [],
   "source": []
  }
 ],
 "metadata": {
  "kernelspec": {
   "display_name": "Python 3 (ipykernel)",
   "language": "python",
   "name": "python3"
  },
  "language_info": {
   "codemirror_mode": {
    "name": "ipython",
    "version": 3
   },
   "file_extension": ".py",
   "mimetype": "text/x-python",
   "name": "python",
   "nbconvert_exporter": "python",
   "pygments_lexer": "ipython3",
   "version": "3.13.4"
  }
 },
 "nbformat": 4,
 "nbformat_minor": 5
}
